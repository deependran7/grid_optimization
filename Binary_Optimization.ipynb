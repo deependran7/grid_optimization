{
 "cells": [
  {
   "cell_type": "markdown",
   "metadata": {},
   "source": [
    "<h3> Performing the binary optimization for the optimal number of generators"
   ]
  },
  {
   "cell_type": "code",
   "execution_count": 1,
   "metadata": {},
   "outputs": [],
   "source": [
    "from Genetic_Algorithm import Binary_Genetic_Algorithm\n",
    "import numpy as np\n",
    "import pypsa\n",
    "import matplotlib.pyplot as plt\n",
    "from numpy.random import randint, rand\n",
    "\n",
    "import logging\n",
    "logging.disable(logging.INFO)"
   ]
  },
  {
   "cell_type": "code",
   "execution_count": 2,
   "metadata": {},
   "outputs": [
    {
     "name": "stderr",
     "output_type": "stream",
     "text": [
      "WARNING:pypsa.io:\n",
      "Importing PyPSA from older version of PyPSA than current version.\n",
      "Please read the release notes at https://pypsa.readthedocs.io/en/latest/release_notes.html\n",
      "carefully to prepare your network for import.\n",
      "Currently used PyPSA version [0, 19, 3], imported network file PyPSA version None.\n",
      "\n"
     ]
    }
   ],
   "source": [
    "#working floder = \"dry\" or \"wet\"\n",
    "\n",
    "working_folder = \"dry\"\n",
    "\n",
    "csv_folder_name = \"Data_Folder/Eastern_grid_data/\" + working_folder + \"_season_data\"\n",
    "result_folder = \"Data_Folder/Eastern_grid_data/\"+ working_folder + \"_results/\"\n",
    "\n",
    "fig_size = (12,6)\n",
    "\n",
    "network = pypsa.Network()\n",
    "network.import_from_csv_folder(csv_folder_name)"
   ]
  },
  {
   "cell_type": "code",
   "execution_count": 3,
   "metadata": {},
   "outputs": [
    {
     "name": "stderr",
     "output_type": "stream",
     "text": [
      "/tmp/ipykernel_9518/1438858629.py:9: SettingWithCopyWarning: \n",
      "A value is trying to be set on a copy of a slice from a DataFrame\n",
      "\n",
      "See the caveats in the documentation: https://pandas.pydata.org/pandas-docs/stable/user_guide/indexing.html#returning-a-view-versus-a-copy\n",
      "  gens.capital_cost[i] = d_sub * 250*gens.p_nom[i] + d_road*70000 + gens.p_nom[i]*1000000\n",
      "/tmp/ipykernel_9518/1438858629.py:7: SettingWithCopyWarning: \n",
      "A value is trying to be set on a copy of a slice from a DataFrame\n",
      "\n",
      "See the caveats in the documentation: https://pandas.pydata.org/pandas-docs/stable/user_guide/indexing.html#returning-a-view-versus-a-copy\n",
      "  gens.capital_cost[i] = d_sub * 250*gens.p_nom[i] + d_road*70000 + gens.p_nom[i]*500000\n"
     ]
    }
   ],
   "source": [
    "gens = network.generators\n",
    "for i in range(len(gens)):\n",
    "    d_sub = gens.sub_dist[i]\n",
    "    d_road = gens.road_dist[i]\n",
    "    typ =gens.carrier[i]\n",
    "    if typ == \"Solar\":\n",
    "        gens.capital_cost[i] = d_sub * 250*gens.p_nom[i] + d_road*70000 + gens.p_nom[i]*500000\n",
    "    else:\n",
    "        gens.capital_cost[i] = d_sub * 250*gens.p_nom[i] + d_road*70000 + gens.p_nom[i]*1000000"
   ]
  },
  {
   "cell_type": "code",
   "execution_count": 4,
   "metadata": {},
   "outputs": [],
   "source": [
    "def update_network(network,x_opt):\n",
    "    network_new = network.copy()\n",
    "    gen_off = np. where(x_opt == 0)\n",
    "    network_new.generators=network_new.generators.drop(network_new.generators.index[gen_off], axis = 0)\n",
    "    network_new.generators_t.p_max_pu = network_new.generators_t.p_max_pu.drop(network_new.generators_t.p_max_pu.columns[gen_off],axis= 1)\n",
    "    return network_new"
   ]
  },
  {
   "cell_type": "code",
   "execution_count": 5,
   "metadata": {},
   "outputs": [],
   "source": [
    "snapshots = network.snapshots\n",
    "start_date = snapshots[0]\n",
    "end_date = snapshots[24*7]\n",
    "network.snapshots = network.snapshots[(network.snapshots>= start_date) & (network.snapshots<=end_date)]"
   ]
  },
  {
   "cell_type": "code",
   "execution_count": 6,
   "metadata": {},
   "outputs": [],
   "source": [
    "def Objective(x):\n",
    "    u_network = update_network(network,x)\n",
    "    #find the power flow\n",
    "    u_network.pf()\n",
    "    #check the voltage constraint, line load contraints and so on\n",
    "    v_mag = u_network.buses_t.v_mag_pu\n",
    "    V_mat = np.array([])\n",
    "    for i in range(len(v_mag)):\n",
    "        V_mat = np.append(V_mat,v_mag.iloc[i].values)\n",
    "    if (V_mat>0.9).all() and (V_mat<1.1).all():\n",
    "        return u_network.generators.capital_cost.sum()\n",
    "    else:\n",
    "        return 10000000000\n",
    "        #find cost of system\n",
    "        #return cost\n",
    "    return np.sum(x)"
   ]
  },
  {
   "cell_type": "code",
   "execution_count": null,
   "metadata": {},
   "outputs": [],
   "source": [
    "n_iter = 10\n",
    "n_bits = len(network.buses)\n",
    "n_pop = 10\n",
    "r_cross = 0.8\n",
    "r_mut = 1/float(n_bits)\n",
    "\n",
    "problem = Binary_Genetic_Algorithm(objective=Objective,n_bits=n_bits,n_iter=n_iter,n_pop= n_pop,r_cross=r_cross,r_mut=r_mut)\n"
   ]
  },
  {
   "cell_type": "code",
   "execution_count": null,
   "metadata": {},
   "outputs": [],
   "source": [
    "best_bits, best_eval = problem.optimize()"
   ]
  },
  {
   "cell_type": "code",
   "execution_count": null,
   "metadata": {},
   "outputs": [],
   "source": []
  }
 ],
 "metadata": {
  "kernelspec": {
   "display_name": "Python 3.10.4 64-bit",
   "language": "python",
   "name": "python3"
  },
  "language_info": {
   "codemirror_mode": {
    "name": "ipython",
    "version": 3
   },
   "file_extension": ".py",
   "mimetype": "text/x-python",
   "name": "python",
   "nbconvert_exporter": "python",
   "pygments_lexer": "ipython3",
   "version": "3.10.4"
  },
  "orig_nbformat": 4,
  "vscode": {
   "interpreter": {
    "hash": "916dbcbb3f70747c44a77c7bcd40155683ae19c65e1c03b4aa3499c5328201f1"
   }
  }
 },
 "nbformat": 4,
 "nbformat_minor": 2
}
