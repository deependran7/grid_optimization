{
 "cells": [
  {
   "cell_type": "markdown",
   "metadata": {},
   "source": [
    "<h3> Performing the binary optimization for the optimal number of generators"
   ]
  },
  {
   "cell_type": "code",
   "execution_count": 25,
   "metadata": {},
   "outputs": [],
   "source": [
    "from Genetic_Algorithm import Binary_Genetic_Algorithm\n",
    "import numpy as np\n",
    "import pypsa\n",
    "import matplotlib.pyplot as plt\n",
    "from numpy.random import randint, rand\n",
    "import pandas as pd\n",
    "\n",
    "import logging\n",
    "logging.disable(logging.INFO)"
   ]
  },
  {
   "cell_type": "code",
   "execution_count": 2,
   "metadata": {},
   "outputs": [
    {
     "name": "stderr",
     "output_type": "stream",
     "text": [
      "WARNING:pypsa.io:\n",
      "Importing PyPSA from older version of PyPSA than current version.\n",
      "Please read the release notes at https://pypsa.readthedocs.io/en/latest/release_notes.html\n",
      "carefully to prepare your network for import.\n",
      "Currently used PyPSA version [0, 19, 3], imported network file PyPSA version None.\n",
      "\n"
     ]
    }
   ],
   "source": [
    "#working floder = \"dry\" or \"wet\"\n",
    "\n",
    "working_folder = \"dry\"\n",
    "\n",
    "csv_folder_name = \"Data_Folder/Eastern_grid_data/\" + working_folder + \"_season_data\"\n",
    "result_folder = \"Data_Folder/Eastern_grid_data/\"+ working_folder + \"_results/\"\n",
    "\n",
    "fig_size = (12,6)\n",
    "\n",
    "network = pypsa.Network()\n",
    "network.import_from_csv_folder(csv_folder_name)"
   ]
  },
  {
   "cell_type": "code",
   "execution_count": 15,
   "metadata": {},
   "outputs": [
    {
     "data": {
      "text/html": [
       "<div>\n",
       "<style scoped>\n",
       "    .dataframe tbody tr th:only-of-type {\n",
       "        vertical-align: middle;\n",
       "    }\n",
       "\n",
       "    .dataframe tbody tr th {\n",
       "        vertical-align: top;\n",
       "    }\n",
       "\n",
       "    .dataframe thead th {\n",
       "        text-align: right;\n",
       "    }\n",
       "</style>\n",
       "<table border=\"1\" class=\"dataframe\">\n",
       "  <thead>\n",
       "    <tr style=\"text-align: right;\">\n",
       "      <th>Line</th>\n",
       "    </tr>\n",
       "    <tr>\n",
       "      <th>snapshot</th>\n",
       "    </tr>\n",
       "  </thead>\n",
       "  <tbody>\n",
       "    <tr>\n",
       "      <th>2019-12-16 00:00:00</th>\n",
       "    </tr>\n",
       "    <tr>\n",
       "      <th>2019-12-16 01:00:00</th>\n",
       "    </tr>\n",
       "    <tr>\n",
       "      <th>2019-12-16 02:00:00</th>\n",
       "    </tr>\n",
       "    <tr>\n",
       "      <th>2019-12-16 03:00:00</th>\n",
       "    </tr>\n",
       "    <tr>\n",
       "      <th>2019-12-16 04:00:00</th>\n",
       "    </tr>\n",
       "    <tr>\n",
       "      <th>...</th>\n",
       "    </tr>\n",
       "    <tr>\n",
       "      <th>2019-12-22 20:00:00</th>\n",
       "    </tr>\n",
       "    <tr>\n",
       "      <th>2019-12-22 21:00:00</th>\n",
       "    </tr>\n",
       "    <tr>\n",
       "      <th>2019-12-22 22:00:00</th>\n",
       "    </tr>\n",
       "    <tr>\n",
       "      <th>2019-12-22 23:00:00</th>\n",
       "    </tr>\n",
       "    <tr>\n",
       "      <th>2019-12-23 00:00:00</th>\n",
       "    </tr>\n",
       "  </tbody>\n",
       "</table>\n",
       "<p>169 rows × 0 columns</p>\n",
       "</div>"
      ],
      "text/plain": [
       "Empty DataFrame\n",
       "Columns: []\n",
       "Index: [2019-12-16 00:00:00, 2019-12-16 01:00:00, 2019-12-16 02:00:00, 2019-12-16 03:00:00, 2019-12-16 04:00:00, 2019-12-16 05:00:00, 2019-12-16 06:00:00, 2019-12-16 07:00:00, 2019-12-16 08:00:00, 2019-12-16 09:00:00, 2019-12-16 10:00:00, 2019-12-16 11:00:00, 2019-12-16 12:00:00, 2019-12-16 13:00:00, 2019-12-16 14:00:00, 2019-12-16 15:00:00, 2019-12-16 16:00:00, 2019-12-16 17:00:00, 2019-12-16 18:00:00, 2019-12-16 19:00:00, 2019-12-16 20:00:00, 2019-12-16 21:00:00, 2019-12-16 22:00:00, 2019-12-16 23:00:00, 2019-12-17 00:00:00, 2019-12-17 01:00:00, 2019-12-17 02:00:00, 2019-12-17 03:00:00, 2019-12-17 04:00:00, 2019-12-17 05:00:00, 2019-12-17 06:00:00, 2019-12-17 07:00:00, 2019-12-17 08:00:00, 2019-12-17 09:00:00, 2019-12-17 10:00:00, 2019-12-17 11:00:00, 2019-12-17 12:00:00, 2019-12-17 13:00:00, 2019-12-17 14:00:00, 2019-12-17 15:00:00, 2019-12-17 16:00:00, 2019-12-17 17:00:00, 2019-12-17 18:00:00, 2019-12-17 19:00:00, 2019-12-17 20:00:00, 2019-12-17 21:00:00, 2019-12-17 22:00:00, 2019-12-17 23:00:00, 2019-12-18 00:00:00, 2019-12-18 01:00:00, 2019-12-18 02:00:00, 2019-12-18 03:00:00, 2019-12-18 04:00:00, 2019-12-18 05:00:00, 2019-12-18 06:00:00, 2019-12-18 07:00:00, 2019-12-18 08:00:00, 2019-12-18 09:00:00, 2019-12-18 10:00:00, 2019-12-18 11:00:00, 2019-12-18 12:00:00, 2019-12-18 13:00:00, 2019-12-18 14:00:00, 2019-12-18 15:00:00, 2019-12-18 16:00:00, 2019-12-18 17:00:00, 2019-12-18 18:00:00, 2019-12-18 19:00:00, 2019-12-18 20:00:00, 2019-12-18 21:00:00, 2019-12-18 22:00:00, 2019-12-18 23:00:00, 2019-12-19 00:00:00, 2019-12-19 01:00:00, 2019-12-19 02:00:00, 2019-12-19 03:00:00, 2019-12-19 04:00:00, 2019-12-19 05:00:00, 2019-12-19 06:00:00, 2019-12-19 07:00:00, 2019-12-19 08:00:00, 2019-12-19 09:00:00, 2019-12-19 10:00:00, 2019-12-19 11:00:00, 2019-12-19 12:00:00, 2019-12-19 13:00:00, 2019-12-19 14:00:00, 2019-12-19 15:00:00, 2019-12-19 16:00:00, 2019-12-19 17:00:00, 2019-12-19 18:00:00, 2019-12-19 19:00:00, 2019-12-19 20:00:00, 2019-12-19 21:00:00, 2019-12-19 22:00:00, 2019-12-19 23:00:00, 2019-12-20 00:00:00, 2019-12-20 01:00:00, 2019-12-20 02:00:00, 2019-12-20 03:00:00, ...]\n",
       "\n",
       "[169 rows x 0 columns]"
      ]
     },
     "execution_count": 15,
     "metadata": {},
     "output_type": "execute_result"
    }
   ],
   "source": [
    "network.lines_t.s_max_pu"
   ]
  },
  {
   "cell_type": "code",
   "execution_count": 3,
   "metadata": {},
   "outputs": [
    {
     "name": "stderr",
     "output_type": "stream",
     "text": [
      "/tmp/ipykernel_3438/1438858629.py:9: SettingWithCopyWarning: \n",
      "A value is trying to be set on a copy of a slice from a DataFrame\n",
      "\n",
      "See the caveats in the documentation: https://pandas.pydata.org/pandas-docs/stable/user_guide/indexing.html#returning-a-view-versus-a-copy\n",
      "  gens.capital_cost[i] = d_sub * 250*gens.p_nom[i] + d_road*70000 + gens.p_nom[i]*1000000\n",
      "/tmp/ipykernel_3438/1438858629.py:7: SettingWithCopyWarning: \n",
      "A value is trying to be set on a copy of a slice from a DataFrame\n",
      "\n",
      "See the caveats in the documentation: https://pandas.pydata.org/pandas-docs/stable/user_guide/indexing.html#returning-a-view-versus-a-copy\n",
      "  gens.capital_cost[i] = d_sub * 250*gens.p_nom[i] + d_road*70000 + gens.p_nom[i]*500000\n"
     ]
    }
   ],
   "source": [
    "gens = network.generators\n",
    "for i in range(len(gens)):\n",
    "    d_sub = gens.sub_dist[i]\n",
    "    d_road = gens.road_dist[i]\n",
    "    typ =gens.carrier[i]\n",
    "    if typ == \"Solar\":\n",
    "        gens.capital_cost[i] = d_sub * 250*gens.p_nom[i] + d_road*70000 + gens.p_nom[i]*500000\n",
    "    else:\n",
    "        gens.capital_cost[i] = d_sub * 250*gens.p_nom[i] + d_road*70000 + gens.p_nom[i]*1000000"
   ]
  },
  {
   "cell_type": "code",
   "execution_count": 4,
   "metadata": {},
   "outputs": [],
   "source": [
    "def update_network(network,x_opt):\n",
    "    network_new = network.copy()\n",
    "    gen_off = np. where(x_opt == 0)\n",
    "    network_new.generators=network_new.generators.drop(network_new.generators.index[gen_off], axis = 0)\n",
    "    network_new.generators_t.p_max_pu = network_new.generators_t.p_max_pu.drop(network_new.generators_t.p_max_pu.columns[gen_off],axis= 1)\n",
    "    return network_new"
   ]
  },
  {
   "cell_type": "code",
   "execution_count": 94,
   "metadata": {},
   "outputs": [],
   "source": [
    "line_s_nom = pd.read_csv('line_s_nom.csv')\n",
    "network.lines.s_nom = line_s_nom.s_nom_max.values"
   ]
  },
  {
   "cell_type": "code",
   "execution_count": 5,
   "metadata": {},
   "outputs": [],
   "source": [
    "snapshots = network.snapshots\n",
    "start_date = snapshots[0]\n",
    "end_date = snapshots[24*7]\n",
    "network.snapshots = network.snapshots[(network.snapshots>= start_date) & (network.snapshots<=end_date)]"
   ]
  },
  {
   "cell_type": "code",
   "execution_count": 103,
   "metadata": {},
   "outputs": [],
   "source": [
    "def Objective(x):\n",
    "    u_network = update_network(network,x)\n",
    "    flow_nom = u_network.lines.s_nom.values\n",
    "    is_under_limit = 1\n",
    "    for i in range(len(x)):\n",
    "        snapshot = network.snapshots[i]\n",
    "        network.pf(snapshot)\n",
    "        bus_voltage = network.buses_t.v_mag_pu.loc[snapshot].values\n",
    "        line_flow = network.lines_t.p0.loc[snapshot].values\n",
    "        if (np.abs(line_flow)>flow_nom).any() or (bus_voltage>1.1).any() or (bus_voltage<0.9).any():\n",
    "            is_under_limit = 0\n",
    "            break\n",
    "    if ~is_under_limit:\n",
    "        return 100000000\n",
    "    else:\n",
    "        return np.sum(x)"
   ]
  },
  {
   "cell_type": "code",
   "execution_count": 104,
   "metadata": {},
   "outputs": [],
   "source": [
    "n_iter = 10\n",
    "n_bits = len(network.buses)\n",
    "n_pop = 10\n",
    "r_cross = 0.8\n",
    "r_mut = 1/float(n_bits)\n",
    "\n",
    "problem = Binary_Genetic_Algorithm(objective=Objective,n_bits=n_bits,n_iter=n_iter,n_pop= n_pop,r_cross=r_cross,r_mut=r_mut)\n"
   ]
  },
  {
   "cell_type": "code",
   "execution_count": 105,
   "metadata": {},
   "outputs": [],
   "source": [
    "#developing the optimization model"
   ]
  },
  {
   "cell_type": "code",
   "execution_count": null,
   "metadata": {},
   "outputs": [],
   "source": [
    "best_bits, best_eval = problem.optimize()"
   ]
  },
  {
   "cell_type": "code",
   "execution_count": null,
   "metadata": {},
   "outputs": [],
   "source": []
  }
 ],
 "metadata": {
  "kernelspec": {
   "display_name": "Python 3.10.4 64-bit",
   "language": "python",
   "name": "python3"
  },
  "language_info": {
   "codemirror_mode": {
    "name": "ipython",
    "version": 3
   },
   "file_extension": ".py",
   "mimetype": "text/x-python",
   "name": "python",
   "nbconvert_exporter": "python",
   "pygments_lexer": "ipython3",
   "version": "3.10.4"
  },
  "orig_nbformat": 4,
  "vscode": {
   "interpreter": {
    "hash": "916dbcbb3f70747c44a77c7bcd40155683ae19c65e1c03b4aa3499c5328201f1"
   }
  }
 },
 "nbformat": 4,
 "nbformat_minor": 2
}
